{
  "nbformat": 4,
  "nbformat_minor": 0,
  "metadata": {
    "colab": {
      "provenance": []
    },
    "kernelspec": {
      "name": "python3",
      "display_name": "Python 3"
    },
    "language_info": {
      "name": "python"
    }
  },
  "cells": [
    {
      "cell_type": "code",
      "execution_count": 15,
      "metadata": {
        "id": "Wn7q1_y8ujpG"
      },
      "outputs": [],
      "source": [
        "from pulp import LpVariable, LpProblem, LpMaximize, LpStatus, value, LpMinimize,GLPK"
      ]
    },
    {
      "cell_type": "markdown",
      "source": [
        "# **Worst Case**"
      ],
      "metadata": {
        "id": "dlqdUp6Z6Gy2"
      }
    },
    {
      "cell_type": "code",
      "source": [
        "# define variables\n",
        "tA = LpVariable(\"Describe product\", 0, None)\n",
        "tB = LpVariable(\"Develop marketing strategy\", 0, None)\n",
        "tC = LpVariable(\"Design brochure\", 0, None)\n",
        "tD1 = LpVariable(\"Requirements analysis\", 0, None)\n",
        "tD2 = LpVariable(\"Software design\", 0, None)\n",
        "tD3 = LpVariable(\"System design\", 0, None)\n",
        "tD4 = LpVariable(\"Coding\", 0, None)\n",
        "tD5 = LpVariable(\"Write documentation\", 0, None)\n",
        "tD6 = LpVariable(\"Unit testing\", 0, None)\n",
        "tD7 = LpVariable(\"System testing\", 0, None)\n",
        "tD8 = LpVariable(\"Package deliverables\", 0, None)\n",
        "tE = LpVariable(\"Survey potential market\", 0, None)\n",
        "tF = LpVariable(\"Develop pricing plan\", 0, None)\n",
        "tG = LpVariable(\"Develop implementation plan\", 0, None)\n",
        "tH = LpVariable(\"Write client proposal\", 0, None)\n",
        "z = LpVariable(\"Z\", 0, None)\n",
        "# defines the problem\n",
        "prob_worst = LpProblem(\"Assignment2_worstCase\", LpMinimize)\n",
        "\n",
        "# Worst Case\n",
        "prob_worst += -tA + tC >= 3\n",
        "prob_worst += -tA + tD1 >= 3\n",
        "prob_worst += -tA + tG >= 3\n",
        "prob_worst += -tB + tE >= 15\n",
        "prob_worst += -tC + tE >= 4\n",
        "prob_worst += -tD1 + tD2 >= 7\n",
        "prob_worst += -tD1 + tD3 >= 7\n",
        "prob_worst += -tD2 + tD4 >= 20\n",
        "prob_worst += -tD3 + tD4 >= 15\n",
        "prob_worst += -tD4 + tD5 >= 25\n",
        "prob_worst += -tD4 + tD6 >= 25\n",
        "prob_worst += -tD5 + tD8 >= 6\n",
        "prob_worst += -tD6 + tD7 >= 12\n",
        "prob_worst += -tD7 + tD8 >= 15\n",
        "prob_worst += -tD8 + tF >= 4\n",
        "prob_worst += -tD8 + tG >= 4\n",
        "prob_worst += -tE + tF >= 7\n",
        "prob_worst += -tF + tH >= 6\n",
        "prob_worst += -tG + tH >= 5\n",
        "prob_worst += -tH + z >= 3\n",
        "\n",
        "# define objective function\n",
        "prob_worst += z\n",
        "# solve the problem\n",
        "prob_worst.writeLP(\"prob_worst.lp\")\n",
        "prob_worst.solve()\n",
        "print (\"Status:\", LpStatus[prob_worst.status])\n",
        "\n",
        "for v in prob_worst.variables():\n",
        "  print(v.name, \"=\", v.varValue)\n",
        "print (\"Objective\", value(prob_worst.objective))\n",
        "print (\"\")\n"
      ],
      "metadata": {
        "colab": {
          "base_uri": "https://localhost:8080/"
        },
        "id": "Aiox4KLSutug",
        "outputId": "8043fa3a-7980-4c1b-b5ea-bd9cfedd3c28"
      },
      "execution_count": 57,
      "outputs": [
        {
          "output_type": "stream",
          "name": "stdout",
          "text": [
            "Status: Optimal\n",
            "Coding = 30.0\n",
            "Describe_product = 0.0\n",
            "Design_brochure = 11.0\n",
            "Develop_implementation_plan = 87.0\n",
            "Develop_marketing_strategy = 0.0\n",
            "Develop_pricing_plan = 86.0\n",
            "Package_deliverables = 82.0\n",
            "Requirements_analysis = 3.0\n",
            "Software_design = 10.0\n",
            "Survey_potential_market = 15.0\n",
            "System_design = 15.0\n",
            "System_testing = 67.0\n",
            "Unit_testing = 55.0\n",
            "Write_client_proposal = 92.0\n",
            "Write_documentation = 76.0\n",
            "Z = 95.0\n",
            "Objective 95.0\n",
            "\n"
          ]
        }
      ]
    },
    {
      "cell_type": "markdown",
      "source": [
        "# **Expected Case**"
      ],
      "metadata": {
        "id": "ATUmIEJ46JFE"
      }
    },
    {
      "cell_type": "code",
      "source": [
        "# Define the problem for expected hours\n",
        "prob_exp = LpProblem(\"Assignment2_expected\", LpMinimize)\n",
        "\n",
        "# Define constraints\n",
        "prob_exp += -tA + tC >= 2\n",
        "prob_exp += -tA + tD1 >= 2\n",
        "prob_exp += -tA + tG >= 2\n",
        "prob_exp += -tB + tE >= 10\n",
        "prob_exp += -tC + tE >= 3\n",
        "prob_exp += -tD1 + tD2 >= 5\n",
        "prob_exp += -tD1 + tD3 >= 5\n",
        "prob_exp += -tD2 + tD4 >= 14\n",
        "prob_exp += -tD3 + tD4 >= 10\n",
        "prob_exp += -tD4 + tD5 >= 18\n",
        "prob_exp += -tD4 + tD6 >= 18\n",
        "prob_exp += -tD5 + tD8 >= 4\n",
        "prob_exp += -tD6 + tD7 >= 10\n",
        "prob_exp += -tD7 + tD8 >= 12\n",
        "prob_exp += -tD8 + tF >= 3\n",
        "prob_exp += -tD8 + tG >= 3\n",
        "prob_exp += -tE + tF >= 6\n",
        "prob_exp += -tF + tH >= 4\n",
        "prob_exp += -tG + tH >= 4\n",
        "prob_exp += -tH + z >= 2\n",
        "\n",
        "# Define objective function\n",
        "prob_exp += z\n",
        "\n",
        "# define objective function\n",
        "prob_exp += z\n",
        "# solve the problem\n",
        "prob_exp.writeLP(\"prob_exp.lp\")\n",
        "prob_exp.solve()\n",
        "print (\"Status:\", LpStatus[prob_exp.status])\n",
        "\n",
        "for v in prob_exp.variables():\n",
        "  print(v.name, \"=\", v.varValue)\n",
        "print (\"Objective\", value(prob_exp.objective))\n",
        "print (\"\")"
      ],
      "metadata": {
        "colab": {
          "base_uri": "https://localhost:8080/"
        },
        "id": "V41EHu9Q6LRN",
        "outputId": "27998a28-37ab-4555-abc9-042cdcf41e0e"
      },
      "execution_count": 45,
      "outputs": [
        {
          "output_type": "stream",
          "name": "stdout",
          "text": [
            "Status: Optimal\n",
            "Z = 70.0\n",
            "tA = 0.0\n",
            "tB = 0.0\n",
            "tC = 7.0\n",
            "tD1 = 2.0\n",
            "tD2 = 7.0\n",
            "tD3 = 11.0\n",
            "tD4 = 21.0\n",
            "tD5 = 57.0\n",
            "tD6 = 39.0\n",
            "tD7 = 49.0\n",
            "tD8 = 61.0\n",
            "tE = 10.0\n",
            "tF = 64.0\n",
            "tG = 64.0\n",
            "tH = 68.0\n",
            "Objective 70.0\n",
            "\n"
          ]
        },
        {
          "output_type": "stream",
          "name": "stderr",
          "text": [
            "/usr/local/lib/python3.10/dist-packages/pulp/pulp.py:1675: UserWarning: Overwriting previously set objective.\n",
            "  warnings.warn(\"Overwriting previously set objective.\")\n"
          ]
        }
      ]
    },
    {
      "cell_type": "markdown",
      "source": [
        "# **Best Case**"
      ],
      "metadata": {
        "id": "h2J6jx2v6aRb"
      }
    },
    {
      "cell_type": "code",
      "source": [
        "prob_best = LpProblem(\"Assignment2_bestCase\", LpMinimize)\n",
        "\n",
        "# Define constraints\n",
        "prob_best += -tA + tC >= 1\n",
        "prob_best += -tA + tD1 >= 1\n",
        "prob_best += -tA + tG >= 1\n",
        "prob_best += -tB + tE >= 5\n",
        "prob_best += -tC + tE >= 2\n",
        "prob_best += -tD1 + tD2 >= 3\n",
        "prob_best += -tD1 + tD3 >= 3\n",
        "prob_best += -tD2 + tD4 >= 10\n",
        "prob_best += -tD3 + tD4 >= 5\n",
        "prob_best += -tD4 + tD5 >= 15\n",
        "prob_best += -tD4 + tD6 >= 15\n",
        "prob_best += -tD5 + tD8 >= 3\n",
        "prob_best += -tD6 + tD7 >= 8\n",
        "prob_best += -tD7 + tD8 >= 10\n",
        "prob_best += -tD8 + tF >= 2\n",
        "prob_best += -tD8 + tG >= 2\n",
        "prob_best += -tE + tF >= 5\n",
        "prob_best += -tF + tH >= 2\n",
        "prob_best += -tG + tH >= 3\n",
        "prob_best += -tH + z >= 1\n",
        "\n",
        "# Define objective function\n",
        "prob_best += z\n",
        "\n",
        "# define objective function\n",
        "prob_best += z\n",
        "# solve the problem\n",
        "prob_best.writeLP(\"prob_best.lp\")\n",
        "prob_best.solve()\n",
        "print (\"Status:\", LpStatus[prob_best.status])\n",
        "\n",
        "for v in prob_best.variables():\n",
        "  print(v.name, \"=\", v.varValue)\n",
        "print (\"Objective\", value(prob_best.objective))\n",
        "print (\"\")"
      ],
      "metadata": {
        "colab": {
          "base_uri": "https://localhost:8080/"
        },
        "id": "Q4eKLvZ-6LXn",
        "outputId": "fe54595c-3677-43e5-c847-dc5c3390e2c3"
      },
      "execution_count": 64,
      "outputs": [
        {
          "output_type": "stream",
          "name": "stdout",
          "text": [
            "Status: Optimal\n",
            "Coding = 14.0\n",
            "Describe_product = 0.0\n",
            "Design_brochure = 3.0\n",
            "Develop_implementation_plan = 49.0\n",
            "Develop_marketing_strategy = 0.0\n",
            "Develop_pricing_plan = 50.0\n",
            "Package_deliverables = 47.0\n",
            "Requirements_analysis = 1.0\n",
            "Software_design = 4.0\n",
            "Survey_potential_market = 5.0\n",
            "System_design = 9.0\n",
            "System_testing = 37.0\n",
            "Unit_testing = 29.0\n",
            "Write_client_proposal = 52.0\n",
            "Write_documentation = 44.0\n",
            "Z = 53.0\n",
            "Objective 53.0\n",
            "\n"
          ]
        }
      ]
    },
    {
      "cell_type": "code",
      "source": [
        "!glpsol --lp prob_worst.lp --ranges prob_best.sen"
      ],
      "metadata": {
        "colab": {
          "base_uri": "https://localhost:8080/"
        },
        "id": "hjwZQHZP6lSZ",
        "outputId": "7f3ec4db-3075-472a-ad20-7a39026403d0"
      },
      "execution_count": 59,
      "outputs": [
        {
          "output_type": "stream",
          "name": "stdout",
          "text": [
            "GLPSOL--GLPK LP/MIP Solver 5.0\n",
            "Parameter(s) specified in the command line:\n",
            " --lp prob_worst.lp --ranges prob_best.sen\n",
            "Reading problem data from 'prob_worst.lp'...\n",
            "20 rows, 16 columns, 40 non-zeros\n",
            "25 lines were read\n",
            "GLPK Simplex Optimizer 5.0\n",
            "20 rows, 16 columns, 40 non-zeros\n",
            "Preprocessing...\n",
            "19 rows, 15 columns, 38 non-zeros\n",
            "Scaling...\n",
            " A: min|aij| =  1.000e+00  max|aij| =  1.000e+00  ratio =  1.000e+00\n",
            "Problem data seem to be well scaled\n",
            "Constructing initial basis...\n",
            "Size of triangular part is 19\n",
            "      0: obj =   3.000000000e+00 inf =   1.860e+02 (19)\n",
            "     19: obj =   9.500000000e+01 inf =   0.000e+00 (0)\n",
            "OPTIMAL LP SOLUTION FOUND\n",
            "Time used:   0.0 secs\n",
            "Memory used: 0.0 Mb (47967 bytes)\n",
            "Write sensitivity analysis report to 'prob_best.sen'...\n"
          ]
        }
      ]
    },
    {
      "cell_type": "code",
      "source": [
        "!cat prob_best.sen"
      ],
      "metadata": {
        "colab": {
          "base_uri": "https://localhost:8080/"
        },
        "id": "48Z2wB6T6lUW",
        "outputId": "27c75158-2332-485d-dd13-57eb6c3efa4b"
      },
      "execution_count": 60,
      "outputs": [
        {
          "output_type": "stream",
          "name": "stdout",
          "text": [
            "GLPK 5.0  - SENSITIVITY ANALYSIS REPORT                                                                         Page   1\n",
            "\n",
            "Problem:    \n",
            "Objective:  OBJ = 95 (MINimum)\n",
            "\n",
            "   No. Row name     St      Activity         Slack   Lower bound       Activity      Obj coef  Obj value at Limiting\n",
            "                                          Marginal   Upper bound          range         range   break point variable\n",
            "------ ------------ -- ------------- ------------- -------------  ------------- ------------- ------------- ------------\n",
            "     1 _C1          NL       3.00000        .            3.00000         .             .           95.00000 Design_brochure\n",
            "                                            .               +Inf       11.00000          +Inf      95.00000 _C5\n",
            "\n",
            "     2 _C10         NL      25.00000        .           25.00000      -30.00000        .           95.00000 Write_documentation\n",
            "                                            .               +Inf       46.00000          +Inf      95.00000 _C12\n",
            "\n",
            "     3 _C11         NL      25.00000        .           25.00000        4.00000      -1.00000      74.00000 _C12\n",
            "                                           1.00000          +Inf           +Inf          +Inf          +Inf\n",
            "\n",
            "     4 _C12         BS      27.00000     -21.00000       6.00000           +Inf      -1.00000      68.00000 _C11\n",
            "                                            .               +Inf           -Inf        .           95.00000 _C10\n",
            "\n",
            "     5 _C13         NL      12.00000        .           12.00000       -9.00000      -1.00000      74.00000 _C12\n",
            "                                           1.00000          +Inf           +Inf          +Inf          +Inf\n",
            "\n",
            "     6 _C14         NL      15.00000        .           15.00000       -6.00000      -1.00000      74.00000 _C12\n",
            "                                           1.00000          +Inf           +Inf          +Inf          +Inf\n",
            "\n",
            "     7 _C15         NL       4.00000        .            4.00000        3.00000      -1.00000      94.00000 _C19\n",
            "                                           1.00000          +Inf           +Inf          +Inf          +Inf\n",
            "\n",
            "     8 _C16         NL       4.00000        .            4.00000      -79.00000        .           95.00000 _C3\n",
            "                                            .               +Inf        5.00000          +Inf      95.00000 _C19\n",
            "\n",
            "     9 _C17         BS      71.00000     -64.00000       7.00000           +Inf      -1.00000      24.00000 _C11\n",
            "                                            .               +Inf           -Inf        .           95.00000 _C4\n",
            "\n",
            "    10 _C18         NL       6.00000        .            6.00000        5.00000      -1.00000      94.00000 _C19\n",
            "                                           1.00000          +Inf           +Inf          +Inf          +Inf\n",
            "\n",
            "GLPK 5.0  - SENSITIVITY ANALYSIS REPORT                                                                         Page   2\n",
            "\n",
            "Problem:    \n",
            "Objective:  OBJ = 95 (MINimum)\n",
            "\n",
            "   No. Row name     St      Activity         Slack   Lower bound       Activity      Obj coef  Obj value at Limiting\n",
            "                                          Marginal   Upper bound          range         range   break point variable\n",
            "------ ------------ -- ------------- ------------- -------------  ------------- ------------- ------------- ------------\n",
            "    11 _C19         BS       6.00000      -1.00000       5.00000           +Inf      -1.00000      89.00000 _C15\n",
            "                                            .               +Inf           -Inf        .           95.00000 _C16\n",
            "\n",
            "    12 _C2          NL       3.00000        .            3.00000         .           -1.00000      92.00000 Requirements_analysis\n",
            "                                           1.00000          +Inf           +Inf          +Inf          +Inf\n",
            "\n",
            "    13 _C20         NL       3.00000        .            3.00000      -92.00000      -1.00000        .      Z\n",
            "                                           1.00000          +Inf           +Inf          +Inf          +Inf\n",
            "\n",
            "    14 _C3          BS      86.00000     -83.00000       3.00000       87.00000        .           95.00000 _C16\n",
            "                                            .               +Inf       86.00000          +Inf          +Inf\n",
            "\n",
            "    15 _C4          NL      15.00000        .           15.00000        7.00000        .           95.00000 _C5\n",
            "                                            .               +Inf       79.00000          +Inf      95.00000 _C17\n",
            "\n",
            "    16 _C5          BS      12.00000      -8.00000       4.00000       76.00000        .           95.00000 _C4\n",
            "                                            .               +Inf           -Inf        .           95.00000 _C1\n",
            "\n",
            "    17 _C6          NL       7.00000        .            7.00000        2.00000      -1.00000      90.00000 _C9\n",
            "                                           1.00000          +Inf           +Inf          +Inf          +Inf\n",
            "\n",
            "    18 _C7          NL       7.00000        .            7.00000       -3.00000        .           95.00000 System_design\n",
            "                                            .               +Inf       12.00000          +Inf      95.00000 _C9\n",
            "\n",
            "    19 _C8          NL      20.00000        .           20.00000       15.00000      -1.00000      90.00000 _C9\n",
            "                                           1.00000          +Inf           +Inf          +Inf          +Inf\n",
            "\n",
            "    20 _C9          BS      20.00000      -5.00000      15.00000           +Inf      -1.00000      75.00000 _C6\n",
            "                                            .               +Inf           -Inf        .           95.00000 _C7\n",
            "\n",
            "GLPK 5.0  - SENSITIVITY ANALYSIS REPORT                                                                         Page   3\n",
            "\n",
            "Problem:    \n",
            "Objective:  OBJ = 95 (MINimum)\n",
            "\n",
            "   No. Column name  St      Activity      Obj coef   Lower bound       Activity      Obj coef  Obj value at Limiting\n",
            "                                          Marginal   Upper bound          range         range   break point variable\n",
            "------ ------------ -- ------------- ------------- -------------  ------------- ------------- ------------- ------------\n",
            "     1 Z            BS      95.00000       1.00000        .                +Inf        .             .      _C11\n",
            "                                            .               +Inf       95.00000          +Inf          +Inf\n",
            "\n",
            "     2 Describe_product\n",
            "                    NL        .             .             .            -3.00000      -1.00000      92.00000 Design_brochure\n",
            "                                           1.00000          +Inf        8.00000          +Inf     103.00000 _C5\n",
            "\n",
            "     3 Design_brochure\n",
            "                    BS       3.00000        .             .            11.00000        .           95.00000 _C1\n",
            "                                            .               +Inf        3.00000          +Inf          +Inf\n",
            "\n",
            "     4 Coding       BS      30.00000        .             .                +Inf      -1.00000      65.00000 _C2\n",
            "                                            .               +Inf       30.00000          +Inf          +Inf\n",
            "\n",
            "     5 Write_documentation\n",
            "                    BS      55.00000        .             .            76.00000        .           95.00000 _C10\n",
            "                                            .               +Inf       55.00000          +Inf          +Inf\n",
            "\n",
            "     6 Unit_testing BS      55.00000        .             .                +Inf      -1.00000      40.00000 _C11\n",
            "                                            .               +Inf       55.00000          +Inf          +Inf\n",
            "\n",
            "     7 Package_deliverables\n",
            "                    BS      82.00000        .             .                +Inf      -1.00000      13.00000 _C11\n",
            "                                            .               +Inf       82.00000          +Inf          +Inf\n",
            "\n",
            "     8 System_testing\n",
            "                    BS      67.00000        .             .                +Inf      -1.00000      28.00000 _C11\n",
            "                                            .               +Inf       67.00000          +Inf          +Inf\n",
            "\n",
            "     9 Develop_pricing_plan\n",
            "                    BS      86.00000        .             .                +Inf      -1.00000       9.00000 _C11\n",
            "                                            .               +Inf       86.00000          +Inf          +Inf\n",
            "\n",
            "    10 Develop_implementation_plan\n",
            "                    BS      86.00000        .             .            87.00000        .           95.00000 _C16\n",
            "                                            .               +Inf       86.00000          +Inf          +Inf\n",
            "\n",
            "GLPK 5.0  - SENSITIVITY ANALYSIS REPORT                                                                         Page   4\n",
            "\n",
            "Problem:    \n",
            "Objective:  OBJ = 95 (MINimum)\n",
            "\n",
            "   No. Column name  St      Activity      Obj coef   Lower bound       Activity      Obj coef  Obj value at Limiting\n",
            "                                          Marginal   Upper bound          range         range   break point variable\n",
            "------ ------------ -- ------------- ------------- -------------  ------------- ------------- ------------- ------------\n",
            "    11 Survey_potential_market\n",
            "                    BS      15.00000        .             .            79.00000        .           95.00000 _C4\n",
            "                                            .               +Inf       15.00000          +Inf          +Inf\n",
            "\n",
            "    12 Write_client_proposal\n",
            "                    BS      92.00000        .             .                +Inf      -1.00000       3.00000 _C11\n",
            "                                            .               +Inf       92.00000          +Inf          +Inf\n",
            "\n",
            "    13 Requirements_analysis\n",
            "                    BS       3.00000        .             .                +Inf      -1.00000      92.00000 _C2\n",
            "                                            .               +Inf        3.00000          +Inf          +Inf\n",
            "\n",
            "    14 Develop_marketing_strategy\n",
            "                    NL        .             .             .            -8.00000        .           95.00000 _C5\n",
            "                                            .               +Inf       64.00000          +Inf      95.00000 _C17\n",
            "\n",
            "    15 Software_design\n",
            "                    BS      10.00000        .             .                +Inf      -1.00000      85.00000 _C2\n",
            "                                            .               +Inf       10.00000          +Inf          +Inf\n",
            "\n",
            "    16 System_design\n",
            "                    BS      10.00000        .             .            15.00000        .           95.00000 _C7\n",
            "                                            .               +Inf       10.00000          +Inf          +Inf\n",
            "\n",
            "End of report\n"
          ]
        }
      ]
    },
    {
      "cell_type": "markdown",
      "source": [
        "# **Additional Contractor**"
      ],
      "metadata": {
        "id": "cMsHCIZUMcjD"
      }
    },
    {
      "cell_type": "code",
      "source": [
        "prob_best = LpProblem(\"Assignment2_bestCase\", LpMinimize)\n",
        "\n",
        "# Define constraints\n",
        "prob_best += -tA + tC >= 1\n",
        "prob_best += -tA + tD1 >= 1\n",
        "prob_best += -tA + tG >= 1\n",
        "prob_best += -tB + tE >= 5\n",
        "prob_best += -tC + tE >= 2\n",
        "prob_best += -tD1 + tD2 >= 3\n",
        "prob_best += -tD1 + tD3 >= 3\n",
        "prob_best += -tD2 + tD4 >= 10\n",
        "prob_best += -tD3 + tD4 >= 5\n",
        "prob_best += -tD4 + tD5 >= 15\n",
        "# Additional Contractor Reduce 5 hours of work\n",
        "prob_best += -tD4 + tD6 >= 10\n",
        "prob_best += -tD5 + tD8 >= 3\n",
        "prob_best += -tD6 + tD7 >= 8\n",
        "prob_best += -tD7 + tD8 >= 10\n",
        "prob_best += -tD8 + tF >= 2\n",
        "prob_best += -tD8 + tG >= 2\n",
        "prob_best += -tE + tF >= 5\n",
        "prob_best += -tF + tH >= 2\n",
        "prob_best += -tG + tH >= 3\n",
        "prob_best += -tH + z >= 1\n",
        "\n",
        "# Define objective function\n",
        "prob_best += z\n",
        "\n",
        "# define objective function\n",
        "prob_best += z\n",
        "# solve the problem\n",
        "prob_best.writeLP(\"prob_best.lp\")\n",
        "prob_best.solve()\n",
        "print (\"Status:\", LpStatus[prob_best.status])\n",
        "\n",
        "for v in prob_best.variables():\n",
        "  print(v.name, \"=\", v.varValue)\n",
        "print (\"Objective\", value(prob_best.objective))\n",
        "print (\"\")"
      ],
      "metadata": {
        "colab": {
          "base_uri": "https://localhost:8080/"
        },
        "id": "x9ieNKk9MfpK",
        "outputId": "03ad1ba2-276a-4f2a-c954-ef8bbcb9a6b3"
      },
      "execution_count": 65,
      "outputs": [
        {
          "output_type": "stream",
          "name": "stdout",
          "text": [
            "Status: Optimal\n",
            "Coding = 14.0\n",
            "Describe_product = 0.0\n",
            "Design_brochure = 3.0\n",
            "Develop_implementation_plan = 44.0\n",
            "Develop_marketing_strategy = 0.0\n",
            "Develop_pricing_plan = 45.0\n",
            "Package_deliverables = 42.0\n",
            "Requirements_analysis = 1.0\n",
            "Software_design = 4.0\n",
            "Survey_potential_market = 5.0\n",
            "System_design = 9.0\n",
            "System_testing = 32.0\n",
            "Unit_testing = 24.0\n",
            "Write_client_proposal = 47.0\n",
            "Write_documentation = 39.0\n",
            "Z = 48.0\n",
            "Objective 48.0\n",
            "\n"
          ]
        }
      ]
    },
    {
      "cell_type": "code",
      "source": [],
      "metadata": {
        "id": "D6r7qR4cMfrY"
      },
      "execution_count": null,
      "outputs": []
    },
    {
      "cell_type": "code",
      "source": [],
      "metadata": {
        "id": "n5Ir39J8Mft_"
      },
      "execution_count": null,
      "outputs": []
    },
    {
      "cell_type": "code",
      "source": [],
      "metadata": {
        "id": "cZfwQ13pMfvw"
      },
      "execution_count": null,
      "outputs": []
    }
  ]
}